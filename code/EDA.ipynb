{
 "cells": [
  {
   "cell_type": "markdown",
   "metadata": {},
   "source": [
    "### Data Analysis"
   ]
  },
  {
   "cell_type": "markdown",
   "metadata": {},
   "source": [
    "### Problem Statement\n",
    "Prediction of used car prices "
   ]
  },
  {
   "cell_type": "markdown",
   "metadata": {},
   "source": [
    "### 1. Data Description\n",
    "Data generated from deep learning model fine-tuned on the used car price prediction dataset\n",
    "\n"
   ]
  },
  {
   "cell_type": "markdown",
   "metadata": {},
   "source": [
    "#### 1.1 Import libraries"
   ]
  },
  {
   "cell_type": "code",
   "execution_count": 6,
   "metadata": {},
   "outputs": [],
   "source": [
    "#!pip install pandas\n",
    "import pandas as pd"
   ]
  },
  {
   "cell_type": "markdown",
   "metadata": {},
   "source": [
    "##### 1.2 Data import"
   ]
  },
  {
   "cell_type": "code",
   "execution_count": 17,
   "metadata": {},
   "outputs": [
    {
     "data": {
      "text/html": [
       "<div>\n",
       "<style scoped>\n",
       "    .dataframe tbody tr th:only-of-type {\n",
       "        vertical-align: middle;\n",
       "    }\n",
       "\n",
       "    .dataframe tbody tr th {\n",
       "        vertical-align: top;\n",
       "    }\n",
       "\n",
       "    .dataframe thead th {\n",
       "        text-align: right;\n",
       "    }\n",
       "</style>\n",
       "<table border=\"1\" class=\"dataframe\">\n",
       "  <thead>\n",
       "    <tr style=\"text-align: right;\">\n",
       "      <th></th>\n",
       "      <th>id</th>\n",
       "      <th>brand</th>\n",
       "      <th>model</th>\n",
       "      <th>model_year</th>\n",
       "      <th>milage</th>\n",
       "      <th>fuel_type</th>\n",
       "      <th>engine</th>\n",
       "      <th>transmission</th>\n",
       "      <th>ext_col</th>\n",
       "      <th>int_col</th>\n",
       "      <th>accident</th>\n",
       "      <th>clean_title</th>\n",
       "      <th>price</th>\n",
       "    </tr>\n",
       "  </thead>\n",
       "  <tbody>\n",
       "    <tr>\n",
       "      <th>0</th>\n",
       "      <td>0</td>\n",
       "      <td>Ford</td>\n",
       "      <td>F-150 Lariat</td>\n",
       "      <td>2018</td>\n",
       "      <td>74349</td>\n",
       "      <td>Gasoline</td>\n",
       "      <td>375.0HP 3.5L V6 Cylinder Engine Gasoline Fuel</td>\n",
       "      <td>10-Speed A/T</td>\n",
       "      <td>Blue</td>\n",
       "      <td>Gray</td>\n",
       "      <td>None reported</td>\n",
       "      <td>Yes</td>\n",
       "      <td>11000</td>\n",
       "    </tr>\n",
       "    <tr>\n",
       "      <th>1</th>\n",
       "      <td>1</td>\n",
       "      <td>BMW</td>\n",
       "      <td>335 i</td>\n",
       "      <td>2007</td>\n",
       "      <td>80000</td>\n",
       "      <td>Gasoline</td>\n",
       "      <td>300.0HP 3.0L Straight 6 Cylinder Engine Gasoli...</td>\n",
       "      <td>6-Speed M/T</td>\n",
       "      <td>Black</td>\n",
       "      <td>Black</td>\n",
       "      <td>None reported</td>\n",
       "      <td>Yes</td>\n",
       "      <td>8250</td>\n",
       "    </tr>\n",
       "    <tr>\n",
       "      <th>2</th>\n",
       "      <td>2</td>\n",
       "      <td>Jaguar</td>\n",
       "      <td>XF Luxury</td>\n",
       "      <td>2009</td>\n",
       "      <td>91491</td>\n",
       "      <td>Gasoline</td>\n",
       "      <td>300.0HP 4.2L 8 Cylinder Engine Gasoline Fuel</td>\n",
       "      <td>6-Speed A/T</td>\n",
       "      <td>Purple</td>\n",
       "      <td>Beige</td>\n",
       "      <td>None reported</td>\n",
       "      <td>Yes</td>\n",
       "      <td>15000</td>\n",
       "    </tr>\n",
       "    <tr>\n",
       "      <th>3</th>\n",
       "      <td>3</td>\n",
       "      <td>BMW</td>\n",
       "      <td>X7 xDrive40i</td>\n",
       "      <td>2022</td>\n",
       "      <td>2437</td>\n",
       "      <td>Hybrid</td>\n",
       "      <td>335.0HP 3.0L Straight 6 Cylinder Engine Gasoli...</td>\n",
       "      <td>Transmission w/Dual Shift Mode</td>\n",
       "      <td>Gray</td>\n",
       "      <td>Brown</td>\n",
       "      <td>None reported</td>\n",
       "      <td>Yes</td>\n",
       "      <td>63500</td>\n",
       "    </tr>\n",
       "    <tr>\n",
       "      <th>4</th>\n",
       "      <td>4</td>\n",
       "      <td>Pontiac</td>\n",
       "      <td>Firebird Base</td>\n",
       "      <td>2001</td>\n",
       "      <td>111000</td>\n",
       "      <td>Gasoline</td>\n",
       "      <td>200.0HP 3.8L V6 Cylinder Engine Gasoline Fuel</td>\n",
       "      <td>A/T</td>\n",
       "      <td>White</td>\n",
       "      <td>Black</td>\n",
       "      <td>None reported</td>\n",
       "      <td>Yes</td>\n",
       "      <td>7850</td>\n",
       "    </tr>\n",
       "  </tbody>\n",
       "</table>\n",
       "</div>"
      ],
      "text/plain": [
       "   id    brand          model  model_year  milage fuel_type  \\\n",
       "0   0     Ford   F-150 Lariat        2018   74349  Gasoline   \n",
       "1   1      BMW          335 i        2007   80000  Gasoline   \n",
       "2   2   Jaguar      XF Luxury        2009   91491  Gasoline   \n",
       "3   3      BMW   X7 xDrive40i        2022    2437    Hybrid   \n",
       "4   4  Pontiac  Firebird Base        2001  111000  Gasoline   \n",
       "\n",
       "                                              engine  \\\n",
       "0      375.0HP 3.5L V6 Cylinder Engine Gasoline Fuel   \n",
       "1  300.0HP 3.0L Straight 6 Cylinder Engine Gasoli...   \n",
       "2       300.0HP 4.2L 8 Cylinder Engine Gasoline Fuel   \n",
       "3  335.0HP 3.0L Straight 6 Cylinder Engine Gasoli...   \n",
       "4      200.0HP 3.8L V6 Cylinder Engine Gasoline Fuel   \n",
       "\n",
       "                     transmission ext_col int_col       accident clean_title  \\\n",
       "0                    10-Speed A/T    Blue    Gray  None reported         Yes   \n",
       "1                     6-Speed M/T   Black   Black  None reported         Yes   \n",
       "2                     6-Speed A/T  Purple   Beige  None reported         Yes   \n",
       "3  Transmission w/Dual Shift Mode    Gray   Brown  None reported         Yes   \n",
       "4                             A/T   White   Black  None reported         Yes   \n",
       "\n",
       "   price  \n",
       "0  11000  \n",
       "1   8250  \n",
       "2  15000  \n",
       "3  63500  \n",
       "4   7850  "
      ]
     },
     "execution_count": 17,
     "metadata": {},
     "output_type": "execute_result"
    }
   ],
   "source": [
    "df=pd.read_csv(\"data/train.csv\")\n",
    "df.head()"
   ]
  },
  {
   "cell_type": "code",
   "execution_count": 8,
   "metadata": {},
   "outputs": [
    {
     "data": {
      "text/plain": [
       "(54273, 13)"
      ]
     },
     "execution_count": 8,
     "metadata": {},
     "output_type": "execute_result"
    }
   ],
   "source": [
    "df.shape"
   ]
  },
  {
   "cell_type": "markdown",
   "metadata": {},
   "source": [
    "#### 1.3 Data information\n",
    "* Data consist of 12 independant features of which 3 numerical columns and rest of the features categorical .\n",
    "* Output column : Price - Numerical column\n",
    "* 5.4 MB data size"
   ]
  },
  {
   "cell_type": "code",
   "execution_count": 21,
   "metadata": {},
   "outputs": [
    {
     "name": "stdout",
     "output_type": "stream",
     "text": [
      "<class 'pandas.core.frame.DataFrame'>\n",
      "RangeIndex: 54273 entries, 0 to 54272\n",
      "Data columns (total 13 columns):\n",
      " #   Column        Non-Null Count  Dtype \n",
      "---  ------        --------------  ----- \n",
      " 0   id            54273 non-null  int64 \n",
      " 1   brand         54273 non-null  object\n",
      " 2   model         54273 non-null  object\n",
      " 3   model_year    54273 non-null  int64 \n",
      " 4   milage        54273 non-null  int64 \n",
      " 5   fuel_type     54273 non-null  object\n",
      " 6   engine        54273 non-null  object\n",
      " 7   transmission  54273 non-null  object\n",
      " 8   ext_col       54273 non-null  object\n",
      " 9   int_col       54273 non-null  object\n",
      " 10  accident      54273 non-null  object\n",
      " 11  clean_title   54273 non-null  object\n",
      " 12  price         54273 non-null  int64 \n",
      "dtypes: int64(4), object(9)\n",
      "memory usage: 5.4+ MB\n"
     ]
    }
   ],
   "source": [
    "df.info()"
   ]
  },
  {
   "cell_type": "markdown",
   "metadata": {},
   "source": [
    "2. Data Checks before analysis "
   ]
  },
  {
   "cell_type": "markdown",
   "metadata": {},
   "source": [
    "2.1 Checking for missing values\n",
    "* There are no missing values"
   ]
  },
  {
   "cell_type": "code",
   "execution_count": 22,
   "metadata": {},
   "outputs": [
    {
     "data": {
      "text/plain": [
       "id              0\n",
       "brand           0\n",
       "model           0\n",
       "model_year      0\n",
       "milage          0\n",
       "fuel_type       0\n",
       "engine          0\n",
       "transmission    0\n",
       "ext_col         0\n",
       "int_col         0\n",
       "accident        0\n",
       "clean_title     0\n",
       "price           0\n",
       "dtype: int64"
      ]
     },
     "execution_count": 22,
     "metadata": {},
     "output_type": "execute_result"
    }
   ],
   "source": [
    "df.isna().sum()"
   ]
  },
  {
   "cell_type": "markdown",
   "metadata": {},
   "source": [
    "2.2 Check for duplicates\n",
    "* No duplicates"
   ]
  },
  {
   "cell_type": "code",
   "execution_count": 23,
   "metadata": {},
   "outputs": [
    {
     "data": {
      "text/plain": [
       "0"
      ]
     },
     "execution_count": 23,
     "metadata": {},
     "output_type": "execute_result"
    }
   ],
   "source": [
    "df.duplicated().sum()"
   ]
  },
  {
   "cell_type": "markdown",
   "metadata": {},
   "source": [
    "2.3 Check for unique values "
   ]
  },
  {
   "cell_type": "code",
   "execution_count": 24,
   "metadata": {},
   "outputs": [
    {
     "data": {
      "text/plain": [
       "id              54273\n",
       "brand              53\n",
       "model            1827\n",
       "model_year         34\n",
       "milage           3212\n",
       "fuel_type           7\n",
       "engine           1061\n",
       "transmission       46\n",
       "ext_col           260\n",
       "int_col           124\n",
       "accident            2\n",
       "clean_title         1\n",
       "price            1481\n",
       "dtype: int64"
      ]
     },
     "execution_count": 24,
     "metadata": {},
     "output_type": "execute_result"
    }
   ],
   "source": [
    "df.nunique()"
   ]
  },
  {
   "cell_type": "markdown",
   "metadata": {},
   "source": [
    "2.4 Statistics of the data"
   ]
  },
  {
   "cell_type": "code",
   "execution_count": 25,
   "metadata": {},
   "outputs": [
    {
     "data": {
      "text/html": [
       "<div>\n",
       "<style scoped>\n",
       "    .dataframe tbody tr th:only-of-type {\n",
       "        vertical-align: middle;\n",
       "    }\n",
       "\n",
       "    .dataframe tbody tr th {\n",
       "        vertical-align: top;\n",
       "    }\n",
       "\n",
       "    .dataframe thead th {\n",
       "        text-align: right;\n",
       "    }\n",
       "</style>\n",
       "<table border=\"1\" class=\"dataframe\">\n",
       "  <thead>\n",
       "    <tr style=\"text-align: right;\">\n",
       "      <th></th>\n",
       "      <th>id</th>\n",
       "      <th>model_year</th>\n",
       "      <th>milage</th>\n",
       "      <th>price</th>\n",
       "    </tr>\n",
       "  </thead>\n",
       "  <tbody>\n",
       "    <tr>\n",
       "      <th>count</th>\n",
       "      <td>54273.000000</td>\n",
       "      <td>54273.000000</td>\n",
       "      <td>54273.000000</td>\n",
       "      <td>5.427300e+04</td>\n",
       "    </tr>\n",
       "    <tr>\n",
       "      <th>mean</th>\n",
       "      <td>27136.000000</td>\n",
       "      <td>2015.091979</td>\n",
       "      <td>72746.175667</td>\n",
       "      <td>3.921844e+04</td>\n",
       "    </tr>\n",
       "    <tr>\n",
       "      <th>std</th>\n",
       "      <td>15667.409917</td>\n",
       "      <td>5.588909</td>\n",
       "      <td>50469.490448</td>\n",
       "      <td>7.282634e+04</td>\n",
       "    </tr>\n",
       "    <tr>\n",
       "      <th>min</th>\n",
       "      <td>0.000000</td>\n",
       "      <td>1974.000000</td>\n",
       "      <td>100.000000</td>\n",
       "      <td>2.000000e+03</td>\n",
       "    </tr>\n",
       "    <tr>\n",
       "      <th>25%</th>\n",
       "      <td>13568.000000</td>\n",
       "      <td>2012.000000</td>\n",
       "      <td>32268.000000</td>\n",
       "      <td>1.550000e+04</td>\n",
       "    </tr>\n",
       "    <tr>\n",
       "      <th>50%</th>\n",
       "      <td>27136.000000</td>\n",
       "      <td>2016.000000</td>\n",
       "      <td>66107.000000</td>\n",
       "      <td>2.800000e+04</td>\n",
       "    </tr>\n",
       "    <tr>\n",
       "      <th>75%</th>\n",
       "      <td>40704.000000</td>\n",
       "      <td>2019.000000</td>\n",
       "      <td>102000.000000</td>\n",
       "      <td>4.500000e+04</td>\n",
       "    </tr>\n",
       "    <tr>\n",
       "      <th>max</th>\n",
       "      <td>54272.000000</td>\n",
       "      <td>2024.000000</td>\n",
       "      <td>405000.000000</td>\n",
       "      <td>2.954083e+06</td>\n",
       "    </tr>\n",
       "  </tbody>\n",
       "</table>\n",
       "</div>"
      ],
      "text/plain": [
       "                 id    model_year         milage         price\n",
       "count  54273.000000  54273.000000   54273.000000  5.427300e+04\n",
       "mean   27136.000000   2015.091979   72746.175667  3.921844e+04\n",
       "std    15667.409917      5.588909   50469.490448  7.282634e+04\n",
       "min        0.000000   1974.000000     100.000000  2.000000e+03\n",
       "25%    13568.000000   2012.000000   32268.000000  1.550000e+04\n",
       "50%    27136.000000   2016.000000   66107.000000  2.800000e+04\n",
       "75%    40704.000000   2019.000000  102000.000000  4.500000e+04\n",
       "max    54272.000000   2024.000000  405000.000000  2.954083e+06"
      ]
     },
     "execution_count": 25,
     "metadata": {},
     "output_type": "execute_result"
    }
   ],
   "source": [
    "df.describe()"
   ]
  },
  {
   "cell_type": "markdown",
   "metadata": {},
   "source": [
    "#### Insights form the data\n",
    "* Time period of the dataset ranges from 1974-2024 \n",
    "* Min price of used car : $2k\n",
    "* Max price : $ 2M"
   ]
  },
  {
   "cell_type": "markdown",
   "metadata": {},
   "source": [
    "#### 3. Data Exploration"
   ]
  },
  {
   "cell_type": "markdown",
   "metadata": {},
   "source": [
    "##### 3.1 Categories in the categorical columns"
   ]
  },
  {
   "cell_type": "code",
   "execution_count": 29,
   "metadata": {},
   "outputs": [
    {
     "name": "stdout",
     "output_type": "stream",
     "text": [
      "Categories in '1.Brand':--['Ford' 'BMW' 'Jaguar' 'Pontiac' 'Acura' 'Audi' 'GMC' 'Maserati'\n",
      " 'Chevrolet' 'Porsche' 'Mercedes-Benz' 'Tesla' 'Lexus' 'Kia' 'Lincoln'\n",
      " 'Dodge' 'Volkswagen' 'Land' 'Cadillac' 'Mazda' 'RAM' 'Subaru' 'Hyundai'\n",
      " 'MINI' 'Jeep' 'Honda' 'Hummer' 'Nissan' 'Toyota' 'Volvo' 'Genesis'\n",
      " 'Mitsubishi' 'Buick' 'INFINITI' 'McLaren' 'Scion' 'Lamborghini' 'Bentley'\n",
      " 'Suzuki' 'Ferrari' 'Alfa' 'Rolls-Royce' 'Chrysler' 'Aston' 'Rivian'\n",
      " 'Lotus' 'Saturn' 'Lucid' 'Mercury' 'Maybach' 'FIAT' 'Plymouth' 'Bugatti']\n",
      "\n",
      "Categories in '2.Model':--['F-150 Lariat' '335 i' 'XF Luxury' ... 'Q4 e-tron Sportback Premium'\n",
      " 'Countryman Cooper' 'S-10 LS']\n",
      "\n",
      "Categories in '3.Fuel Type':--['Gasoline' 'Hybrid' 'E85 Flex Fuel' 'Diesel' '–' 'Plug-In Hybrid'\n",
      " 'not supported']\n",
      "\n",
      "Categories in '4.Engine Type':--['375.0HP 3.5L V6 Cylinder Engine Gasoline Fuel'\n",
      " '300.0HP 3.0L Straight 6 Cylinder Engine Gasoline Fuel'\n",
      " '300.0HP 4.2L 8 Cylinder Engine Gasoline Fuel' ... '3.0L'\n",
      " '3.0 Liter GTDI' '120.0HP 2.2L 4 Cylinder Engine Flex Fuel Capability']\n",
      "\n",
      "Categories in '5.Transmission':--['10-Speed A/T' '6-Speed M/T' '6-Speed A/T'\n",
      " 'Transmission w/Dual Shift Mode' 'A/T' '5-Speed M/T' '7-Speed A/T'\n",
      " '5-Speed A/T' '8-Speed A/T' 'Transmission Overdrive Switch'\n",
      " '9-Speed Automatic' '7-Speed M/T' '10-Speed Automatic'\n",
      " '6-Speed Automatic' 'M/T' '5-Speed Automatic' 'CVT Transmission'\n",
      " '9-Speed A/T' '8-Speed Automatic' '4-Speed A/T' 'Automatic' '1-Speed A/T'\n",
      " '8-Speed Automatic with Auto-Shift' '7-Speed DCT Automatic'\n",
      " 'Automatic CVT' '7-Speed Automatic' '7-Speed Automatic with Auto-Shift'\n",
      " '4-Speed Automatic' '6-Speed Automatic with Auto-Shift' '6-Speed Manual'\n",
      " '7-Speed Manual' '6-Speed Electronically Controlled Automatic with O'\n",
      " '1-Speed Automatic' '10-Speed Automatic with Overdrive' '8-Speed Manual'\n",
      " '2-Speed A/T' 'CVT-F' '–' 'F' '9-Speed Automatic with Auto-Shift'\n",
      " '7-Speed' 'Variable' 'SCHEDULED FOR OR IN PRODUCTION' '6-Speed'\n",
      " '6 Speed At/Mt' '6 Speed Mt']\n",
      "\n",
      "Categories in '6.Exterior colour':--['Blue' 'Black' 'Purple' 'Gray' 'White' 'Red' 'Silver' 'Summit White'\n",
      " 'Platinum Quartz Metallic' 'Green' 'Orange' 'Lunar Rock'\n",
      " 'Red Quartz Tintcoat' 'Beige' 'Gold' 'Jet Black Mica'\n",
      " 'Delmonico Red Pearlcoat' 'Brown' 'Rich Garnet Metallic'\n",
      " 'Stellar Black Metallic' 'Yellow' 'Deep Black Pearl Effect' 'Metallic'\n",
      " 'Ice Silver Metallic' 'Agate Black Metallic' 'Rosso Mars Metallic'\n",
      " 'White Clearcoat' 'Santorini Black Metallic' 'DB Black Clearcoat'\n",
      " 'Snowflake White Pearl' 'Glacial White Pearl' 'Maximum Steel Metallic'\n",
      " 'Blue Caelum' 'Dark Matter Metallic' '–' 'Oxford White'\n",
      " 'Cobra Beige Metallic' 'Velvet Red Pearlcoat' 'Python Green'\n",
      " 'Obsidian Black Metallic' 'Beluga Black' 'Blue Reflex Mica'\n",
      " 'Sparkling Silver' 'Black Clearcoat' 'Soul Red Crystal Metallic'\n",
      " 'Bright White Clearcoat' 'Shimmering Silver' 'Midnight Black Metallic'\n",
      " 'Cajun Red Tintcoat' 'Cirrus Silver Metallic' 'Blu'\n",
      " 'Burnished Bronze Metallic' 'Hellayella Clearcoat' 'Diamond Black'\n",
      " 'White Diamond Tri-Coat' 'Nebula Gray Pearl' 'Bronze Dune Metallic'\n",
      " 'Polymetal Gray Metallic' 'Nightfall Gray Metallic' 'Fuji White'\n",
      " 'Shadow Gray Metallic' 'Dark Moon Blue Metallic' 'Dark Sapphire'\n",
      " 'Firecracker Red Clearcoat' 'Black Raven' 'White Knuckle Clearcoat'\n",
      " 'Siren Red Tintcoat' 'Designo Magno Matte' 'Atomic Silver'\n",
      " 'Billet Silver Metallic Clearcoat' 'Ember Pearlcoat' 'Magnetic Black'\n",
      " 'Pacific Blue Metallic' 'Midnight Blue Metallic' 'Alta White'\n",
      " 'Eiger Grey' 'Diamond White' 'Onyx' 'Hyper Red' 'Ebony Twilight Metallic'\n",
      " 'Alpine White' 'Sonic Silver Metallic' 'Dark Ash Metallic'\n",
      " 'Volcano Grey Metallic' 'Patriot Blue Pearlcoat' 'Onyx Black'\n",
      " 'Titanium Silver' 'Granite Crystal Clearcoat Metallic' 'Nero Noctis'\n",
      " 'Silver Zynith' 'Black Cherry' 'Iconic Silver Metallic' 'Nero Daytona'\n",
      " 'Daytona Gray Pearl Effect' 'Dark Moss' 'Deep Crystal Blue Mica'\n",
      " 'China Blue' 'Magnetic Metallic' 'Midnight Black' 'Vega Blue'\n",
      " 'Sandstone Metallic' 'Machine Gray Metallic' 'C / C'\n",
      " 'Platinum Gray Metallic' 'Silver Ice Metallic' 'Carrara White Metallic'\n",
      " 'Black Sapphire Metallic' 'Go Mango!' 'White Frost Tri-Coat'\n",
      " 'Lizard Green' 'Santorin Black' 'Twilight Black' 'Gecko Pearlcoat'\n",
      " 'Satin Steel Metallic' 'Imperial Blue Metallic' 'Nautical Blue Pearl'\n",
      " 'Stone Gray Metallic' 'Quartzite Grey Metallic' 'Majestic Black Pearl'\n",
      " 'Shadow Black' 'Crimson Red Tintcoat' 'Silver Flare Metallic' 'Vik Black'\n",
      " 'Lunar Silver Metallic' 'Maroon' 'Redline Red' 'Iridescent Pearl Tricoat'\n",
      " 'Brilliant Silver Metallic' 'Lunar Blue Metallic' 'Matte White' 'Tan'\n",
      " 'Stormy Sea' 'Twilight Blue Metallic' 'Ibis White'\n",
      " 'Kodiak Brown Metallic' 'Crystal Black Silica' 'Sting Gray Clearcoat'\n",
      " 'Pristine White' 'Pearl White' 'Antimatter Blue Metallic'\n",
      " 'Tango Red Metallic' 'Crystal Black Pearl' 'Rift Metallic'\n",
      " 'Glacier White Metallic' 'Quartz White' 'Black Obsidian'\n",
      " 'Brilliant Black' 'Ruby Red Metallic Tinted Clearcoat'\n",
      " 'Tungsten Metallic' 'Magnetite Black Metallic' 'Jupiter Red' 'Glacier'\n",
      " 'Santorini Black' 'Navarre Blue'\n",
      " 'Phantom Black Pearl Effect / Black Roof' 'Isle of Man Green Metallic'\n",
      " 'Snowflake White Pearl Metallic' 'Brands Hatch Gray Metallic'\n",
      " 'Volcanic Orange' 'Liquid Platinum' 'Bayside Blue'\n",
      " 'Rapid Red Metallic Tinted Clearcoat' 'Majestic Plum Metallic'\n",
      " 'White Platinum Tri-Coat Metallic' 'Mosaic Black Metallic' 'Chalk'\n",
      " 'Black Noir Pearl' 'Nightfall Mica' 'Dark Gray Metallic'\n",
      " 'Mythos Black Metallic' 'Blueprint' 'Quicksilver Metallic' 'Frozen White'\n",
      " 'Lunare White Metallic' 'Verde' 'Dark Graphite Metallic' 'Mythos Black'\n",
      " 'Ebony Black' 'Ultra Black' 'Ingot Silver Metallic'\n",
      " 'Glacier Silver Metallic' 'Gun Metallic' 'Wind Chill Pearl'\n",
      " 'Anodized Blue Metallic' 'designo Diamond White' 'Tempest' 'Caviar'\n",
      " 'Phytonic Blue Metallic' 'Moonlight Cloud'\n",
      " 'Daytona Gray Pearl Effect w/ Black Roof' 'Bianco Isis'\n",
      " 'Carbonized Gray Metallic' 'Deep Blue Metallic' 'Ametrin Metallic'\n",
      " 'Super Black' 'Rosso Corsa' 'Blue Metallic' 'Iridium Metallic'\n",
      " 'Dark Slate Metallic' 'Manhattan Noir Metallic' 'Alfa White'\n",
      " 'Baltic Gray' 'Northsky Blue Metallic' 'Super White'\n",
      " 'Carbon Black Metallic' 'Horizon Blue' 'Jungle Green'\n",
      " 'Cayenne Red Tintcoat' 'Pink' 'Daytona Gray' 'Gentian Blue Metallic'\n",
      " 'Sangria Red' 'Kemora Gray Metallic' 'Magnetite Gray Metallic'\n",
      " 'Octane Red Pearlcoat' 'Custom Color' 'Ultra White' 'Pacific Blue'\n",
      " 'Ruby Flare Pearl' 'Caspian Blue' 'Silver Radiance'\n",
      " 'Carpathian Grey Premium Metallic' 'Ice' 'Balloon White'\n",
      " 'Shoreline Blue Pearl' 'Firenze Red Metallic' 'Remington Red Metallic'\n",
      " 'Orca Black Metallic' 'Radiant Red Metallic II' 'Mineral White'\n",
      " 'Glacier White' 'Snow White Pearl' 'Iridium Silver Metallic'\n",
      " 'Carpathian Grey' 'Mountain Air Metallic' 'Selenite Gray Metallic'\n",
      " 'Graphite Grey Metallic' 'Selenite Grey Metallic' 'Kinetic Blue'\n",
      " 'Wolf Gray' 'Star White' 'Emin White' 'Indus Silver'\n",
      " 'Matador Red Metallic' 'Portofino Gray' 'Black Forest Green'\n",
      " 'Dazzling White' 'Flame Red Clearcoat' 'Glacier Blue Metallic'\n",
      " 'Arctic White' 'Rosso' 'Silver Mist' 'Bianco Icarus Metallic'\n",
      " 'Firenze Red' 'Ironman Silver' 'Red Obsession' 'Magnetic Gray Metallic'\n",
      " 'Garnet Red Metallic' 'Vulcano Black Metallic' 'Magnetic Gray Clearcoat']\n",
      "\n",
      "Categories in '7.Interior colour':--['Gray' 'Black' 'Beige' 'Brown' 'Silver' 'Jet Black' 'Mesa' 'White' '–'\n",
      " 'Red' 'Blue' 'Medium Stone' 'Ash' 'Ebony' 'Shara Beige' 'Tan'\n",
      " 'Titan Black / Quarzit' 'Global Black' 'Orange' 'Saddle Brown' 'Nero Ade'\n",
      " 'Beluga' 'Light Slate' 'Gold' 'Black Onyx' 'Nougat Brown' 'Camel'\n",
      " 'Hotspur Hide' 'Charcoal' 'Satin Black' 'Deep Chestnut'\n",
      " 'Diesel Gray / Black' 'White / Brown' 'AMG Black' 'Parchment' 'Shale'\n",
      " 'Canberra Beige' 'Sahara Tan' 'Ebony / Pimento' 'Rhapsody Blue'\n",
      " 'Medium Dark Slate' 'Rioja Red' 'Black / Express Red' 'Deep Garnet'\n",
      " 'Portland' 'Sandstone' 'Dark Ash' 'Deep Cypress' 'Black / Stone Grey'\n",
      " 'Chestnut' 'Navy Pier' 'Green' 'Giallo Taurus / Nero Ade'\n",
      " 'Mistral Gray / Raven' 'Dark Gray' 'Amber' 'Charles Blue' 'Hotspur'\n",
      " 'Medium Earth Gray' 'Ceramic' 'Kyalami Orange' 'Charcoal Black'\n",
      " 'Adrenaline Red' 'Walnut' 'Brandy' 'Black / Saddle' 'Obsidian Black'\n",
      " 'Oyster W/Contrast' 'Macchiato' 'Red / Black' 'Whisper Beige' 'Graphite'\n",
      " 'Yellow' 'Medium Light Camel' 'Slate' 'Nero' 'Ebony Black' 'Espresso'\n",
      " 'Cappuccino' 'Ivory / Ebony' 'Boulder' 'Medium Ash Gray' 'Platinum'\n",
      " 'Light Platinum / Jet Black' 'Beluga Hide' 'Black / Graphite'\n",
      " 'Canberra Beige/Black' 'Rock Gray' 'Dark Auburn' 'Almond Beige'\n",
      " 'Sand Beige' 'Black / Brown' 'Ice' 'Silk Beige/Espresso Brown'\n",
      " 'Dark Galvanized' 'Cobalt Blue' 'Grace White' 'Titan Black'\n",
      " 'Cocoa / Dune' 'Light Gray' 'Camel Leather' 'Light Titanium'\n",
      " 'Pimento Red w/Ebony' 'Sport' 'Oyster/Black' 'Black/Red'\n",
      " 'Ebony / Ebony Accents' 'Cloud' 'Graystone' 'BLACK' 'Mountain Brown'\n",
      " 'Linen' 'Caramel' 'Black / Gray' 'Blk' 'Black w/Red Stitching' 'Mocha'\n",
      " 'Tupelo' 'Tan/Ebony' 'Parchment.' 'Black/Gun Metal' 'Very Light Cashmere'\n",
      " 'Medium Pewter' 'Red/Black']\n",
      "\n",
      "Categories in '8.Accident history':--['None reported' 'At least 1 accident or damage reported']\n",
      "\n",
      "Categories in '9.Clean Title':--['Yes']\n",
      "\n"
     ]
    }
   ],
   "source": [
    "print(\"Categories in '1.Brand':--{}\\n\".format(df['brand'].unique()))\n",
    "print(\"Categories in '2.Model':--{}\\n\".format(df['model'].unique()))\n",
    "print(\"Categories in '3.Fuel Type':--{}\\n\".format(df['fuel_type'].unique()))\n",
    "print(\"Categories in '4.Engine Type':--{}\\n\".format(df['engine'].unique()))\n",
    "print(\"Categories in '5.Transmission':--{}\\n\".format(df['transmission'].unique()))\n",
    "print(\"Categories in '6.Exterior colour':--{}\\n\".format(df['ext_col'].unique()))\n",
    "print(\"Categories in '7.Interior colour':--{}\\n\".format(df['int_col'].unique()))\n",
    "print(\"Categories in '8.Accident history':--{}\\n\".format(df['accident'].unique()))\n",
    "print(\"Categories in '9.Clean Title':--{}\\n\".format(df['clean_title'].unique()))"
   ]
  },
  {
   "cell_type": "code",
   "execution_count": null,
   "metadata": {},
   "outputs": [],
   "source": []
  }
 ],
 "metadata": {
  "kernelspec": {
   "display_name": "Python 3",
   "language": "python",
   "name": "python3"
  },
  "language_info": {
   "codemirror_mode": {
    "name": "ipython",
    "version": 3
   },
   "file_extension": ".py",
   "mimetype": "text/x-python",
   "name": "python",
   "nbconvert_exporter": "python",
   "pygments_lexer": "ipython3",
   "version": "3.8.0"
  }
 },
 "nbformat": 4,
 "nbformat_minor": 2
}
